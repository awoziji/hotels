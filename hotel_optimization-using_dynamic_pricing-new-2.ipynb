{
 "cells": [
  {
   "cell_type": "markdown",
   "metadata": {},
   "source": [
    "<img align=\"center\" width=\"300\" src=\"nimphelos-logo-v1.png\">"
   ]
  },
  {
   "cell_type": "markdown",
   "metadata": {},
   "source": [
    "<img align=\"center\" width=\"180\" src=\"hpr_2.png\">"
   ]
  },
  {
   "cell_type": "markdown",
   "metadata": {},
   "source": [
    "<h1><center>Hotel Revenue Optimization with Dynamic Pricing</center></h1> "
   ]
  },
  {
   "cell_type": "markdown",
   "metadata": {},
   "source": [
    "<br>\n",
    "<img align=\"center\" width=\"200\" src=\"logo_YB.png\">\n",
    "<br>"
   ]
  },
  {
   "cell_type": "markdown",
   "metadata": {},
   "source": [
    "<img align=\"center\" width=\"400\" src=\"hpr.jpeg\">\n",
    "<center>FIG.1: Hotel Porto Real in Mangaratiba, RJ, Brazil.</center> "
   ]
  },
  {
   "cell_type": "markdown",
   "metadata": {},
   "source": [
    "%## Revenue Optimization with Dynamic Pricing  </h1>\n",
    "\n",
    "\n",
    "### Notebook by [Marco Tavora](http://www.marcotavora.me)\n",
    "\n",
    "### Table of contents\n",
    "\n",
    "1. [Dynamic Pricing](#Dynamic-Pricing)\n",
    "1. [Problem Statement](#Problem-Statement)\n",
    "2. [Code](#Code)\n",
    "\n",
    "\n",
    "<br>\n",
    "<img align=\"center\" width=\"300\" src=\"hpr_new.jpeg\">\n",
    "<br>"
   ]
  },
  {
   "cell_type": "code",
   "execution_count": 22,
   "metadata": {},
   "outputs": [
    {
     "data": {
      "text/html": [
       "<script>requirejs.config({paths: { 'plotly': ['https://cdn.plot.ly/plotly-latest.min']},});if(!window.Plotly) {{require(['plotly'],function(plotly) {window.Plotly=plotly;});}}</script>"
      ],
      "text/vnd.plotly.v1+html": [
       "<script>requirejs.config({paths: { 'plotly': ['https://cdn.plot.ly/plotly-latest.min']},});if(!window.Plotly) {{require(['plotly'],function(plotly) {window.Plotly=plotly;});}}</script>"
      ]
     },
     "metadata": {},
     "output_type": "display_data"
    }
   ],
   "source": [
    "import pandas as pd\n",
    "import numpy as np \n",
    "import psycopg2, scipy, os, calendar, warnings, pickle, math\n",
    "import matplotlib.pyplot as plt\n",
    "from scipy.optimize import curve_fit\n",
    "%matplotlib inline\n",
    "import plotly\n",
    "import plotly.plotly as py\n",
    "import plotly.graph_objs as go\n",
    "import plotly.figure_factory as ff\n",
    "from plotly.offline import download_plotlyjs, init_notebook_mode, plot, iplot\n",
    "init_notebook_mode(connected=True) \n",
    "warnings.filterwarnings('ignore')"
   ]
  },
  {
   "cell_type": "markdown",
   "metadata": {},
   "source": [
    "## Dynamic Pricing\n",
    "[[go back to the top]](#Table-of-contents)\n",
    "\n",
    "From [this](https://www.hospitalitynet.org/opinion/4045046.html) source:\n",
    "\n",
    "> Dynamic pricing means that a hotel will change its room rates daily or even within a day if up-to-the-minute market information reveals the need for adjustments. It is based on the recognition that the right rate to charge for a room night is what the customer is able and willing to pay.\n",
    "\n",
    "In other words, dynamic pricing is the strategy of adjusting prices as a function of a multitude of factors, such as room availability, demand, occupancy and others. \n",
    "\n",
    "Hotels and airline companies have practiced quantity-based RM (Revenue Management) for some time. RM may includes among other things:\n",
    "- Offering rooms initially at a lower rate\n",
    "- When the number of bookings surpasses the quantity allocated to the less expensive rooms, which I will call segment $A$, rates change to values corresponding to segment $B$ and so on. The size of the segments is kept fixed but its prices vary with time (naturally)."
   ]
  },
  {
   "cell_type": "markdown",
   "metadata": {},
   "source": [
    "## Goal\n",
    "[[go back to the top]](#Table-of-contents)\n",
    "\n",
    "The goal of this notebook is to describe a hotel revenue management (RM) model that can be implemented in practice.\n",
    "\n",
    "\n",
    "##  Problem Statement\n",
    "[[go back to the top]](#Table-of-contents)"
   ]
  },
  {
   "cell_type": "markdown",
   "metadata": {},
   "source": [
    "<br>\n",
    "<img align=\"center\" width=\"600\" src=\"rates.png\">\n",
    "<br>"
   ]
  },
  {
   "cell_type": "markdown",
   "metadata": {},
   "source": [
    "Note that this is a dynamic chart depending on external factors (such as availability, occupancy, weather, market conditions and macroeconomics)."
   ]
  },
  {
   "cell_type": "markdown",
   "metadata": {},
   "source": [
    "## Mathematical Formulation\n",
    "[[go back to the top]](#Table-of-contents)\n",
    "\n",
    "This is a constrained optimization problem. According to [Aziz et al]([this article](https://www.sciencedirect.com/science/article/pii/S1110866511000375#s0030)):\n",
    "> To formulate this problem as a price control tactic, we need to change the decision variables to be the prices\n",
    "set every day.\n",
    "\n",
    "The objective function is:\n",
    "\n",
    "$$\\sum\\limits_{i = 1}^s {\\sum\\limits_{j = 1}^n {{p_{ij}}} {O_{ij}}}$$\n",
    "\n",
    "where:\n",
    "- $j$: night index\n",
    "- $p_j$ is the price of the some room segment for night $j$\n",
    "- $O_j$ is the (projected) occupancy for night j at price $p_j$. \n",
    "- $n$ is the number of nights \n",
    "\n",
    "The decision variable of this optimization problem is the price $p_j$ of night $j$. The constraint is:\n",
    "\n",
    "$$O = O_{\\rm{nominal}}\\bigg( \\frac{p}{p_{\\rm{nominal}}} \\bigg)^{e} $$\n",
    "\n",
    "where $O_{\\rm{nominal}}$ is the forecasted occupancy for a given night based on the rate $p_{\\rm{nominal}}$ i.e.\n",
    "\n",
    "$$O_{\\rm{nominal}} = f(p_{\\rm{nominal}},...),$$\n",
    "\n",
    "where $p_{\\rm{nominal}}$ is the nominal price of the hotel (usually the average historical price).\n",
    "\n",
    "We fix the base rate to a constant $r$ and the elasticity to another constant $e$. This choice of elasticity was based on [this article](https://www.sciencedirect.com/science/article/pii/S1110866511000375#s0030)\n",
    "\n",
    "If the hotel has $N_{i}$ rooms in segment i (with $i=A,B,C$ and $D$ i.e. 4 segments in total), the objective function is subject to the following constraints:\n",
    "- $O_j \\leq C_j$: the occupancy can't be greater than the number of available rooms $C_j$\n",
    "- $p_j \\ge 0$: prices cannot be negative\n",
    "\n",
    "\n",
    "Dynamic pricing involves re-running the forecast of the optimal price per night which was set ahead of time and update the values of $O_j$ based on new data (on a daily/weekly basis). Price levels are set based on current occupancy (as mentioned before, the levels increase as the number of available rooms in the hotel decrease).\n",
    "\n",
    "This simulated hotel will have four segments. To solve for the optimal price, we must find how many rooms are available and their corresponding price segment. "
   ]
  },
  {
   "cell_type": "markdown",
   "metadata": {},
   "source": [
    "## Predicting Occupancy\n",
    "[[go back to the top]](#Table-of-contents)"
   ]
  },
  {
   "cell_type": "markdown",
   "metadata": {},
   "source": [
    "We will consider a hotel with four different types of suite $A, B, C$ and $D$ and we will generate predictions for rates of suites type $A$ (making predictions for the others is a trivial extension). Let us suppose that there are $N_A=80$ suites in segment $A$. The room price $p_A$ will be set to $120/night in the high season.\n",
    "\n",
    "As previously stated, the aim is to find, based on this baseline prediction, the optimal revenue maximizing prices.\n",
    "\n",
    "In the first figure below, the predicted occupancy is plotted. It shows a weekly seasonality and a (weak) trend upward. Weekend peaks are also present as expected. The dashed line indicates the capacity of rooms of type $A$.\n",
    "\n",
    "Note that this forecast must be updated frequently using reservation/cancellation data. \n",
    "\n",
    "As expected, keeping $p_A$ fixed at $120 is a suboptimal strategy for reasons such as:\n",
    "- Weekdays have lower occupancy and therefore lowering rates would likely increase revenue\n",
    "- The revenue at the weekend could benefit from higher prices"
   ]
  },
  {
   "cell_type": "markdown",
   "metadata": {},
   "source": [
    "## Code\n",
    "[[go back to the top]](#Table-of-contents)"
   ]
  },
  {
   "cell_type": "markdown",
   "metadata": {},
   "source": [
    "The following function will simulate the occupancy level for a period of time which we will denote by $N$. The parameters are:\n",
    "- `nb_days`: Length of the forecast period (in days)\n",
    "- period: Length of the seasonal component. Typically 7 days for weekly fluctuations.\n",
    "- dc_level: Baseline occupancy \n",
    "- noise_level: This number corresponds to the standard deviation of the normal distribution.\n",
    "- amplitude: amplitude of the periodic signal\n",
    "- phase: phase shift of the signal \n",
    "- trend: slope of the linear trend term (units of rooms/night)."
   ]
  },
  {
   "cell_type": "markdown",
   "metadata": {},
   "source": [
    "### Simulating occupancy (demand) for the next $N$ days\n",
    "\n",
    "We will write an auxiliar function that simulated occupancy curves:\n",
    "\n",
    "\\[{O_t}{\\rm{ =  }}{O_{{\\rm{baseline}}}}{\\rm{  +  }}Tt{\\rm{  +  }}A{\\rm{cos}}\\left( {\\frac{{{\\rm{2}}\\pi }}{T}t{\\rm{  +  }}\\phi } \\right){\\rm{ +  }}\\sigma \\]"
   ]
  },
  {
   "cell_type": "code",
   "execution_count": 10,
   "metadata": {},
   "outputs": [],
   "source": [
    "def simulate_demand(nb_days, period=7.0, dc_level=35.0, noise_level=5.0,\n",
    "                    amplitude=3.0, phase=2.0*math.pi/7.0, trend=0.06):\n",
    "    \n",
    "    t = np.linspace(1,nb_days,nb_days)\n",
    "    noise = noise_level*np.random.normal(size=len(t))\n",
    "\n",
    "    demand = dc_level + trend*t + amplitude*np.cos(2.0*math.pi*t/period + phase) + noise\n",
    "\n",
    "    return demand"
   ]
  },
  {
   "cell_type": "markdown",
   "metadata": {},
   "source": [
    "For $T=90$ days:"
   ]
  },
  {
   "cell_type": "code",
   "execution_count": 11,
   "metadata": {},
   "outputs": [],
   "source": [
    "date_start, date_end = '2017-07-31', '2017-10-29'\n",
    "nb_days = (pd.to_datetime(date_end) - pd.to_datetime(date_start)).days\n",
    "\n",
    "forecasted_demand = simulate_demand(nb_days, \n",
    "                                    dc_level=68,\n",
    "                                    noise_level=1.0, \n",
    "                                    amplitude=5)\n",
    "\n",
    "forecasted_demand = pd.DataFrame(forecasted_demand,\n",
    "                                 index=pd.date_range(start=date_start,\n",
    "                                                     end=date_end,\n",
    "                                                     closed='left'),\n",
    "                                 columns=['occupancy'])"
   ]
  },
  {
   "cell_type": "markdown",
   "metadata": {},
   "source": [
    "Plotting the occupancy forecastL"
   ]
  },
  {
   "cell_type": "code",
   "execution_count": 13,
   "metadata": {},
   "outputs": [
    {
     "data": {
      "application/vnd.plotly.v1+json": {
       "data": [
        {
         "name": "Forecast of suite A occupancy for the next 90 days",
         "type": "scatter",
         "uid": "d0807b1a-d98c-11e8-8896-8c859097598f",
         "x": [
          "2017-07-31",
          "2017-08-01",
          "2017-08-02",
          "2017-08-03",
          "2017-08-04",
          "2017-08-05",
          "2017-08-06",
          "2017-08-07",
          "2017-08-08",
          "2017-08-09",
          "2017-08-10",
          "2017-08-11",
          "2017-08-12",
          "2017-08-13",
          "2017-08-14",
          "2017-08-15",
          "2017-08-16",
          "2017-08-17",
          "2017-08-18",
          "2017-08-19",
          "2017-08-20",
          "2017-08-21",
          "2017-08-22",
          "2017-08-23",
          "2017-08-24",
          "2017-08-25",
          "2017-08-26",
          "2017-08-27",
          "2017-08-28",
          "2017-08-29",
          "2017-08-30",
          "2017-08-31",
          "2017-09-01",
          "2017-09-02",
          "2017-09-03",
          "2017-09-04",
          "2017-09-05",
          "2017-09-06",
          "2017-09-07",
          "2017-09-08",
          "2017-09-09",
          "2017-09-10",
          "2017-09-11",
          "2017-09-12",
          "2017-09-13",
          "2017-09-14",
          "2017-09-15",
          "2017-09-16",
          "2017-09-17",
          "2017-09-18",
          "2017-09-19",
          "2017-09-20",
          "2017-09-21",
          "2017-09-22",
          "2017-09-23",
          "2017-09-24",
          "2017-09-25",
          "2017-09-26",
          "2017-09-27",
          "2017-09-28",
          "2017-09-29",
          "2017-09-30",
          "2017-10-01",
          "2017-10-02",
          "2017-10-03",
          "2017-10-04",
          "2017-10-05",
          "2017-10-06",
          "2017-10-07",
          "2017-10-08",
          "2017-10-09",
          "2017-10-10",
          "2017-10-11",
          "2017-10-12",
          "2017-10-13",
          "2017-10-14",
          "2017-10-15",
          "2017-10-16",
          "2017-10-17",
          "2017-10-18",
          "2017-10-19",
          "2017-10-20",
          "2017-10-21",
          "2017-10-22",
          "2017-10-23",
          "2017-10-24",
          "2017-10-25",
          "2017-10-26",
          "2017-10-27",
          "2017-10-28"
         ],
         "y": [
          66.78759021961594,
          64.03234156037198,
          63.20419600634467,
          65.20938940629337,
          71.28672411042815,
          73.32499097547162,
          71.45074639436187,
          66.56293882256163,
          63.24848849976981,
          64.4791983652529,
          68.07136759529058,
          70.81853417690638,
          72.16409117226696,
          71.58416861828843,
          67.83623693913816,
          64.39454349466943,
          63.3038022324543,
          67.17694648237895,
          72.12008072077724,
          75.79257454657278,
          73.06291564091772,
          68.68175151725399,
          66.05582294037755,
          64.09703949164363,
          67.94744603357834,
          70.20593804473572,
          74.04046583540534,
          72.14552619394016,
          69.68244208917831,
          64.50145857231287,
          65.08896767878235,
          69.46652272235798,
          72.2875180932826,
          76.07836339545285,
          73.5815586567639,
          70.51915935593509,
          63.514109369274564,
          66.89147178515371,
          70.05846224347216,
          71.89013235682562,
          74.79311923126699,
          74.77571288804971,
          67.47250488131294,
          65.91286419988846,
          66.26760923727964,
          70.50832554343876,
          73.04316913171341,
          76.1458143842133,
          73.88214720482733,
          71.24861011526696,
          65.304576990051,
          67.67529710201062,
          68.79176235418433,
          76.14294342058459,
          76.38095330439472,
          75.56748103800932,
          69.2317839021483,
          66.86236506405108,
          66.5140854364904,
          70.08555345097508,
          74.86994711049003,
          75.81548657289781,
          74.44298409417436,
          71.26475887708203,
          66.43141968272698,
          68.0363020494321,
          70.3178791419621,
          77.189330382651,
          76.87062523292427,
          74.48872355099063,
          70.15277678259791,
          67.16547071863381,
          69.50703379890696,
          70.66780602880412,
          76.43405214521272,
          77.69920464001864,
          75.35865477857041,
          70.13232043799125,
          66.81454303312296,
          66.42474379195312,
          71.94642260725486,
          77.39064929576745,
          77.04535557030752,
          74.85388719263982,
          72.05550071521965,
          69.96753094131542,
          68.37303487548908,
          71.7785721176373,
          75.89419940456858,
          76.76769243731266
         ]
        }
       ],
       "layout": {
        "shapes": [
         {
          "line": {
           "color": "rgb(50, 171, 96)",
           "dash": "dash",
           "width": 4
          },
          "type": "line",
          "x0": "2017-07-31",
          "x1": "2017-10-31",
          "y0": 80,
          "y1": 80
         }
        ],
        "title": "Forecast of suite A occupancy for the next 90 days",
        "xaxis": {
         "title": "Day"
        },
        "yaxis": {
         "title": "Number of Rooms Occupied"
        }
       }
      },
      "text/html": [
       "<div id=\"55d19028-129b-4b7d-849f-a8994c1e9875\" style=\"height: 525px; width: 100%;\" class=\"plotly-graph-div\"></div><script type=\"text/javascript\">require([\"plotly\"], function(Plotly) { window.PLOTLYENV=window.PLOTLYENV || {};window.PLOTLYENV.BASE_URL=\"https://plot.ly\";\n",
       "        Plotly.plot(\n",
       "            '55d19028-129b-4b7d-849f-a8994c1e9875',\n",
       "            [{\"name\": \"Forecast of suite A occupancy for the next 90 days\", \"x\": [\"2017-07-31\", \"2017-08-01\", \"2017-08-02\", \"2017-08-03\", \"2017-08-04\", \"2017-08-05\", \"2017-08-06\", \"2017-08-07\", \"2017-08-08\", \"2017-08-09\", \"2017-08-10\", \"2017-08-11\", \"2017-08-12\", \"2017-08-13\", \"2017-08-14\", \"2017-08-15\", \"2017-08-16\", \"2017-08-17\", \"2017-08-18\", \"2017-08-19\", \"2017-08-20\", \"2017-08-21\", \"2017-08-22\", \"2017-08-23\", \"2017-08-24\", \"2017-08-25\", \"2017-08-26\", \"2017-08-27\", \"2017-08-28\", \"2017-08-29\", \"2017-08-30\", \"2017-08-31\", \"2017-09-01\", \"2017-09-02\", \"2017-09-03\", \"2017-09-04\", \"2017-09-05\", \"2017-09-06\", \"2017-09-07\", \"2017-09-08\", \"2017-09-09\", \"2017-09-10\", \"2017-09-11\", \"2017-09-12\", \"2017-09-13\", \"2017-09-14\", \"2017-09-15\", \"2017-09-16\", \"2017-09-17\", \"2017-09-18\", \"2017-09-19\", \"2017-09-20\", \"2017-09-21\", \"2017-09-22\", \"2017-09-23\", \"2017-09-24\", \"2017-09-25\", \"2017-09-26\", \"2017-09-27\", \"2017-09-28\", \"2017-09-29\", \"2017-09-30\", \"2017-10-01\", \"2017-10-02\", \"2017-10-03\", \"2017-10-04\", \"2017-10-05\", \"2017-10-06\", \"2017-10-07\", \"2017-10-08\", \"2017-10-09\", \"2017-10-10\", \"2017-10-11\", \"2017-10-12\", \"2017-10-13\", \"2017-10-14\", \"2017-10-15\", \"2017-10-16\", \"2017-10-17\", \"2017-10-18\", \"2017-10-19\", \"2017-10-20\", \"2017-10-21\", \"2017-10-22\", \"2017-10-23\", \"2017-10-24\", \"2017-10-25\", \"2017-10-26\", \"2017-10-27\", \"2017-10-28\"], \"y\": [66.78759021961594, 64.03234156037198, 63.20419600634467, 65.20938940629337, 71.28672411042815, 73.32499097547162, 71.45074639436187, 66.56293882256163, 63.24848849976981, 64.4791983652529, 68.07136759529058, 70.81853417690638, 72.16409117226696, 71.58416861828843, 67.83623693913816, 64.39454349466943, 63.3038022324543, 67.17694648237895, 72.12008072077724, 75.79257454657278, 73.06291564091772, 68.68175151725399, 66.05582294037755, 64.09703949164363, 67.94744603357834, 70.20593804473572, 74.04046583540534, 72.14552619394016, 69.68244208917831, 64.50145857231287, 65.08896767878235, 69.46652272235798, 72.2875180932826, 76.07836339545285, 73.5815586567639, 70.51915935593509, 63.514109369274564, 66.89147178515371, 70.05846224347216, 71.89013235682562, 74.79311923126699, 74.77571288804971, 67.47250488131294, 65.91286419988846, 66.26760923727964, 70.50832554343876, 73.04316913171341, 76.1458143842133, 73.88214720482733, 71.24861011526696, 65.304576990051, 67.67529710201062, 68.79176235418433, 76.14294342058459, 76.38095330439472, 75.56748103800932, 69.2317839021483, 66.86236506405108, 66.5140854364904, 70.08555345097508, 74.86994711049003, 75.81548657289781, 74.44298409417436, 71.26475887708203, 66.43141968272698, 68.0363020494321, 70.3178791419621, 77.189330382651, 76.87062523292427, 74.48872355099063, 70.15277678259791, 67.16547071863381, 69.50703379890696, 70.66780602880412, 76.43405214521272, 77.69920464001864, 75.35865477857041, 70.13232043799125, 66.81454303312296, 66.42474379195312, 71.94642260725486, 77.39064929576745, 77.04535557030752, 74.85388719263982, 72.05550071521965, 69.96753094131542, 68.37303487548908, 71.7785721176373, 75.89419940456858, 76.76769243731266], \"type\": \"scatter\", \"uid\": \"d0807b1a-d98c-11e8-8896-8c859097598f\"}],\n",
       "            {\"shapes\": [{\"line\": {\"color\": \"rgb(50, 171, 96)\", \"dash\": \"dash\", \"width\": 4}, \"type\": \"line\", \"x0\": \"2017-07-31\", \"x1\": \"2017-10-31\", \"y0\": 80.0, \"y1\": 80.0}], \"title\": \"Forecast of suite A occupancy for the next 90 days\", \"xaxis\": {\"title\": \"Day\"}, \"yaxis\": {\"title\": \"Number of Rooms Occupied\"}},\n",
       "            {\"showLink\": true, \"linkText\": \"Export to plot.ly\"}\n",
       "        ).then(function () {return Plotly.addFrames('55d19028-129b-4b7d-849f-a8994c1e9875',{});}).then(function(){Plotly.animate('55d19028-129b-4b7d-849f-a8994c1e9875');})\n",
       "        });</script>"
      ],
      "text/vnd.plotly.v1+html": [
       "<div id=\"55d19028-129b-4b7d-849f-a8994c1e9875\" style=\"height: 525px; width: 100%;\" class=\"plotly-graph-div\"></div><script type=\"text/javascript\">require([\"plotly\"], function(Plotly) { window.PLOTLYENV=window.PLOTLYENV || {};window.PLOTLYENV.BASE_URL=\"https://plot.ly\";\n",
       "        Plotly.plot(\n",
       "            '55d19028-129b-4b7d-849f-a8994c1e9875',\n",
       "            [{\"name\": \"Forecast of suite A occupancy for the next 90 days\", \"x\": [\"2017-07-31\", \"2017-08-01\", \"2017-08-02\", \"2017-08-03\", \"2017-08-04\", \"2017-08-05\", \"2017-08-06\", \"2017-08-07\", \"2017-08-08\", \"2017-08-09\", \"2017-08-10\", \"2017-08-11\", \"2017-08-12\", \"2017-08-13\", \"2017-08-14\", \"2017-08-15\", \"2017-08-16\", \"2017-08-17\", \"2017-08-18\", \"2017-08-19\", \"2017-08-20\", \"2017-08-21\", \"2017-08-22\", \"2017-08-23\", \"2017-08-24\", \"2017-08-25\", \"2017-08-26\", \"2017-08-27\", \"2017-08-28\", \"2017-08-29\", \"2017-08-30\", \"2017-08-31\", \"2017-09-01\", \"2017-09-02\", \"2017-09-03\", \"2017-09-04\", \"2017-09-05\", \"2017-09-06\", \"2017-09-07\", \"2017-09-08\", \"2017-09-09\", \"2017-09-10\", \"2017-09-11\", \"2017-09-12\", \"2017-09-13\", \"2017-09-14\", \"2017-09-15\", \"2017-09-16\", \"2017-09-17\", \"2017-09-18\", \"2017-09-19\", \"2017-09-20\", \"2017-09-21\", \"2017-09-22\", \"2017-09-23\", \"2017-09-24\", \"2017-09-25\", \"2017-09-26\", \"2017-09-27\", \"2017-09-28\", \"2017-09-29\", \"2017-09-30\", \"2017-10-01\", \"2017-10-02\", \"2017-10-03\", \"2017-10-04\", \"2017-10-05\", \"2017-10-06\", \"2017-10-07\", \"2017-10-08\", \"2017-10-09\", \"2017-10-10\", \"2017-10-11\", \"2017-10-12\", \"2017-10-13\", \"2017-10-14\", \"2017-10-15\", \"2017-10-16\", \"2017-10-17\", \"2017-10-18\", \"2017-10-19\", \"2017-10-20\", \"2017-10-21\", \"2017-10-22\", \"2017-10-23\", \"2017-10-24\", \"2017-10-25\", \"2017-10-26\", \"2017-10-27\", \"2017-10-28\"], \"y\": [66.78759021961594, 64.03234156037198, 63.20419600634467, 65.20938940629337, 71.28672411042815, 73.32499097547162, 71.45074639436187, 66.56293882256163, 63.24848849976981, 64.4791983652529, 68.07136759529058, 70.81853417690638, 72.16409117226696, 71.58416861828843, 67.83623693913816, 64.39454349466943, 63.3038022324543, 67.17694648237895, 72.12008072077724, 75.79257454657278, 73.06291564091772, 68.68175151725399, 66.05582294037755, 64.09703949164363, 67.94744603357834, 70.20593804473572, 74.04046583540534, 72.14552619394016, 69.68244208917831, 64.50145857231287, 65.08896767878235, 69.46652272235798, 72.2875180932826, 76.07836339545285, 73.5815586567639, 70.51915935593509, 63.514109369274564, 66.89147178515371, 70.05846224347216, 71.89013235682562, 74.79311923126699, 74.77571288804971, 67.47250488131294, 65.91286419988846, 66.26760923727964, 70.50832554343876, 73.04316913171341, 76.1458143842133, 73.88214720482733, 71.24861011526696, 65.304576990051, 67.67529710201062, 68.79176235418433, 76.14294342058459, 76.38095330439472, 75.56748103800932, 69.2317839021483, 66.86236506405108, 66.5140854364904, 70.08555345097508, 74.86994711049003, 75.81548657289781, 74.44298409417436, 71.26475887708203, 66.43141968272698, 68.0363020494321, 70.3178791419621, 77.189330382651, 76.87062523292427, 74.48872355099063, 70.15277678259791, 67.16547071863381, 69.50703379890696, 70.66780602880412, 76.43405214521272, 77.69920464001864, 75.35865477857041, 70.13232043799125, 66.81454303312296, 66.42474379195312, 71.94642260725486, 77.39064929576745, 77.04535557030752, 74.85388719263982, 72.05550071521965, 69.96753094131542, 68.37303487548908, 71.7785721176373, 75.89419940456858, 76.76769243731266], \"type\": \"scatter\", \"uid\": \"d0807b1a-d98c-11e8-8896-8c859097598f\"}],\n",
       "            {\"shapes\": [{\"line\": {\"color\": \"rgb(50, 171, 96)\", \"dash\": \"dash\", \"width\": 4}, \"type\": \"line\", \"x0\": \"2017-07-31\", \"x1\": \"2017-10-31\", \"y0\": 80.0, \"y1\": 80.0}], \"title\": \"Forecast of suite A occupancy for the next 90 days\", \"xaxis\": {\"title\": \"Day\"}, \"yaxis\": {\"title\": \"Number of Rooms Occupied\"}},\n",
       "            {\"showLink\": true, \"linkText\": \"Export to plot.ly\"}\n",
       "        ).then(function () {return Plotly.addFrames('55d19028-129b-4b7d-849f-a8994c1e9875',{});}).then(function(){Plotly.animate('55d19028-129b-4b7d-849f-a8994c1e9875');})\n",
       "        });</script>"
      ]
     },
     "metadata": {},
     "output_type": "display_data"
    }
   ],
   "source": [
    "occupancy = [go.Scatter(x=forecasted_demand.index, y=forecasted_demand['occupancy'],\n",
    "                        name='Forecast of suite A occupancy for the next 90 days')]\n",
    "\n",
    "\n",
    "layout_occ = go.Layout(title='Forecast of suite A occupancy for the next 90 days',\n",
    "                       xaxis=  {'title':'Day'},\n",
    "                       yaxis=  {'title':'Number of Rooms Occupied'},\n",
    "                       shapes=[{'type':'line',\n",
    "                                'x0':'2017-07-31',\n",
    "                                'x1':'2017-10-31',\n",
    "                                'y0':80.0, 'y1':80.0,\n",
    "                                'line': {'color': 'rgb(50, 171, 96)', \n",
    "                                         'width': 4, 'dash':'dash'}}])\n",
    "\n",
    "fig = go.Figure(data=occupancy, layout=layout_occ)\n",
    "iplot(fig, filename='occ_ts')"
   ]
  },
  {
   "cell_type": "markdown",
   "metadata": {},
   "source": [
    "We now need the relationship between price and demand. We choose the elasticity $e =−2$ hence the demand or occupancy function becomes:\n",
    "\n",
    "$$O(p) = O_{\\rm{nominal}}\\bigg( \\frac{p_{\\rm{nominal}}}{p} \\bigg)^{2} $$"
   ]
  },
  {
   "cell_type": "code",
   "execution_count": 14,
   "metadata": {},
   "outputs": [],
   "source": [
    "# Let's assume a demand price elasticity function:\n",
    "\n",
    "def demand_price_elasticity(price, nominal_demand, elasticity=-2.0, nominal_price=120.0):\n",
    "    \n",
    "    return nominal_demand * ( price / nominal_price ) ** (elasticity)"
   ]
  },
  {
   "cell_type": "markdown",
   "metadata": {},
   "source": [
    "The optimal prices for different capacity levels must obey the following constraints:\n",
    "- $O_j \\leq C_j$: the occupancy can't be greater than the number of available rooms $C_j$\n",
    "- $p_j \\ge 0$: prices cannot be negative\n",
    "\n",
    "The objective function and constraints are given below."
   ]
  },
  {
   "cell_type": "code",
   "execution_count": 15,
   "metadata": {},
   "outputs": [],
   "source": [
    "import scipy.optimize as optimize\n",
    "\n",
    "\n",
    "def objective(p_t, nominal_demand=np.array([50,40,30,20]),\n",
    "              elasticity=-2.0, nominal_price=120.0):\n",
    "    return (-1.0 * np.sum( p_t * demand_price_elasticity(p_t, nominal_demand=nominal_demand,\n",
    "                                                        elasticity=elasticity,\n",
    "                                                        nominal_price=nominal_price) ))/100\n",
    "\n",
    "def constraint_1(p_t):\n",
    "    \"\"\" This constraint ensures that the prices are positive.\n",
    "    \"\"\"\n",
    "    return p_t\n",
    "\n",
    "\n",
    "def constraint_2(p_t, capacity=20, forecasted_demand=35.0,\n",
    "                 elasticity=-2.0, nominal_price=120.0):\n",
    "    return capacity - demand_price_elasticity(p_t, nominal_demand=forecasted_demand,\n",
    "                                                        elasticity=elasticity,\n",
    "                                                        nominal_price=nominal_price)"
   ]
  },
  {
   "cell_type": "markdown",
   "metadata": {},
   "source": [
    "Now I will select four overlapping capacity segments and minimize using the SLSQP  technique."
   ]
  },
  {
   "cell_type": "code",
   "execution_count": 16,
   "metadata": {},
   "outputs": [],
   "source": [
    "capacities = [20.0, 40.0, 60.0, 80.0]\n",
    "\n",
    "optimization_results = {}\n",
    "for capacity in capacities:\n",
    "\n",
    "    nominal_price = 120.0\n",
    "    nominal_demand = forecasted_demand['occupancy'].values\n",
    "    elasticity = -2.0\n",
    "    p_start = 125.0 * np.ones(len(nominal_demand))\n",
    "    bounds = tuple((10.0, 400.0) for p in p_start)\n",
    "\n",
    "    constraints = ({'type': 'ineq', 'fun':  lambda x:  constraint_1(x)},\n",
    "               {'type': 'ineq', 'fun':  lambda x, capacity=capacity,\n",
    "                                           forecasted_demand=nominal_demand,\n",
    "                                           elasticity=elasticity,\n",
    "                                           nominal_price=nominal_price: constraint_2(x,capacity=capacity,\n",
    "                                                                                     forecasted_demand=nominal_demand,\n",
    "                                                                                     elasticity=elasticity,\n",
    "                                                                                     nominal_price=nominal_price)})\n",
    "\n",
    "    opt_results = optimize.minimize(objective, p_start, args=(nominal_demand,\n",
    "                                                              elasticity,\n",
    "                                                              nominal_price),\n",
    "                                    method='SLSQP', bounds=bounds,\n",
    "                                    constraints=constraints)\n",
    "\n",
    "    optimization_results[capacity] = opt_results"
   ]
  },
  {
   "cell_type": "code",
   "execution_count": 17,
   "metadata": {},
   "outputs": [],
   "source": [
    "time_array = np.linspace(1,len(nominal_demand),len(nominal_demand))\n",
    "rate_df = pd.DataFrame(index=time_array)\n",
    "\n",
    "for capacity in optimization_results.keys():\n",
    "    rate_df = pd.concat([rate_df,\n",
    "                         pd.DataFrame(optimization_results[capacity]['x'],\n",
    "                                      columns=['{}'.format(capacity)],\n",
    "                                      index=time_array)],\n",
    "                        axis=1)\n",
    "\n",
    "rate_df.index.name = 'Day'\n",
    "datelist = pd.date_range(start=date_start, end=date_end, closed='left').tolist()\n",
    "rate_df.index = [ x.date() for x in datelist]"
   ]
  },
  {
   "cell_type": "markdown",
   "metadata": {},
   "source": [
    "### Prices versus capacity levels\n",
    "\n",
    "\n",
    "The table and the plot show prices per night and capacity levels. \n",
    "\n",
    "The table below contains rates in terms of number of rooms still available e.g.\n",
    "- Column `Capacity left: 80.0` corresponds to the case where there are all 80 rooms left to book \n",
    "- Column `Capacity left: 20.0` represents the case where there are only 20 rooms left to book. \n",
    "\n",
    "The prices and capacity move in oposite directions as expected."
   ]
  },
  {
   "cell_type": "code",
   "execution_count": 18,
   "metadata": {},
   "outputs": [
    {
     "data": {
      "text/html": [
       "<div>\n",
       "<style scoped>\n",
       "    .dataframe tbody tr th:only-of-type {\n",
       "        vertical-align: middle;\n",
       "    }\n",
       "\n",
       "    .dataframe tbody tr th {\n",
       "        vertical-align: top;\n",
       "    }\n",
       "\n",
       "    .dataframe thead th {\n",
       "        text-align: right;\n",
       "    }\n",
       "</style>\n",
       "<table border=\"1\" class=\"dataframe\">\n",
       "  <thead>\n",
       "    <tr style=\"text-align: right;\">\n",
       "      <th></th>\n",
       "      <th>Capacity left : 20.0</th>\n",
       "      <th>Capacity left : 40.0</th>\n",
       "      <th>Capacity left : 60.0</th>\n",
       "      <th>Capacity left : 80.0</th>\n",
       "    </tr>\n",
       "  </thead>\n",
       "  <tbody>\n",
       "    <tr>\n",
       "      <th>Mon 2017-07-31</th>\n",
       "      <td>219.29</td>\n",
       "      <td>155.06</td>\n",
       "      <td>126.61</td>\n",
       "      <td>109.64</td>\n",
       "    </tr>\n",
       "    <tr>\n",
       "      <th>Tue 2017-08-01</th>\n",
       "      <td>214.72</td>\n",
       "      <td>151.83</td>\n",
       "      <td>123.97</td>\n",
       "      <td>107.36</td>\n",
       "    </tr>\n",
       "    <tr>\n",
       "      <th>Wed 2017-08-02</th>\n",
       "      <td>213.32</td>\n",
       "      <td>150.84</td>\n",
       "      <td>123.16</td>\n",
       "      <td>106.66</td>\n",
       "    </tr>\n",
       "    <tr>\n",
       "      <th>Thu 2017-08-03</th>\n",
       "      <td>216.68</td>\n",
       "      <td>153.22</td>\n",
       "      <td>125.10</td>\n",
       "      <td>108.34</td>\n",
       "    </tr>\n",
       "    <tr>\n",
       "      <th>Fri 2017-08-04</th>\n",
       "      <td>226.55</td>\n",
       "      <td>160.20</td>\n",
       "      <td>130.80</td>\n",
       "      <td>113.28</td>\n",
       "    </tr>\n",
       "    <tr>\n",
       "      <th>Sat 2017-08-05</th>\n",
       "      <td>229.77</td>\n",
       "      <td>162.47</td>\n",
       "      <td>132.66</td>\n",
       "      <td>114.88</td>\n",
       "    </tr>\n",
       "    <tr>\n",
       "      <th>Sun 2017-08-06</th>\n",
       "      <td>226.81</td>\n",
       "      <td>160.38</td>\n",
       "      <td>130.95</td>\n",
       "      <td>113.41</td>\n",
       "    </tr>\n",
       "    <tr>\n",
       "      <th>Mon 2017-08-07</th>\n",
       "      <td>218.92</td>\n",
       "      <td>154.80</td>\n",
       "      <td>126.39</td>\n",
       "      <td>109.46</td>\n",
       "    </tr>\n",
       "    <tr>\n",
       "      <th>Tue 2017-08-08</th>\n",
       "      <td>213.40</td>\n",
       "      <td>150.90</td>\n",
       "      <td>123.21</td>\n",
       "      <td>106.70</td>\n",
       "    </tr>\n",
       "    <tr>\n",
       "      <th>Wed 2017-08-09</th>\n",
       "      <td>215.46</td>\n",
       "      <td>152.36</td>\n",
       "      <td>124.40</td>\n",
       "      <td>107.73</td>\n",
       "    </tr>\n",
       "  </tbody>\n",
       "</table>\n",
       "</div>"
      ],
      "text/plain": [
       "                Capacity left : 20.0  Capacity left : 40.0  \\\n",
       "Mon 2017-07-31                219.29                155.06   \n",
       "Tue 2017-08-01                214.72                151.83   \n",
       "Wed 2017-08-02                213.32                150.84   \n",
       "Thu 2017-08-03                216.68                153.22   \n",
       "Fri 2017-08-04                226.55                160.20   \n",
       "Sat 2017-08-05                229.77                162.47   \n",
       "Sun 2017-08-06                226.81                160.38   \n",
       "Mon 2017-08-07                218.92                154.80   \n",
       "Tue 2017-08-08                213.40                150.90   \n",
       "Wed 2017-08-09                215.46                152.36   \n",
       "\n",
       "                Capacity left : 60.0  Capacity left : 80.0  \n",
       "Mon 2017-07-31                126.61                109.64  \n",
       "Tue 2017-08-01                123.97                107.36  \n",
       "Wed 2017-08-02                123.16                106.66  \n",
       "Thu 2017-08-03                125.10                108.34  \n",
       "Fri 2017-08-04                130.80                113.28  \n",
       "Sat 2017-08-05                132.66                114.88  \n",
       "Sun 2017-08-06                130.95                113.41  \n",
       "Mon 2017-08-07                126.39                109.46  \n",
       "Tue 2017-08-08                123.21                106.70  \n",
       "Wed 2017-08-09                124.40                107.73  "
      ]
     },
     "execution_count": 18,
     "metadata": {},
     "output_type": "execute_result"
    }
   ],
   "source": [
    "rate_df_to_show = rate_df.copy()\n",
    "rate_df_to_show = rate_df_to_show[np.sort(np.asarray(rate_df_to_show.columns))]\n",
    "rate_df_to_show.columns = ['Capacity left : {}'.format(x) for x in rate_df_to_show.columns]\n",
    "for col in rate_df_to_show.columns:\n",
    "    rate_df_to_show[col] = rate_df_to_show[col].apply(lambda x: round(x,2))\n",
    "dow_map = { 6:'Sun', 0:'Mon', 1:'Tue', 2:'Wed', 3:'Thu', 4:'Fri', 5:'Sat'}\n",
    "rate_df_to_show['date'] = rate_df_to_show.index\n",
    "rate_df_to_show['dow'] = rate_df_to_show['date'].apply(lambda x: dow_map[x.weekday()])\n",
    "rate_df_to_show['date'] = rate_df_to_show.apply(lambda row: row['dow']+\" \"+str(row['date']),axis=1)\n",
    "rate_df_to_show.index = rate_df_to_show['date'].values\n",
    "rate_df_to_show.drop(['date','dow'],axis=1,inplace=True)\n",
    "rate_df_to_show.head(10)"
   ]
  },
  {
   "cell_type": "markdown",
   "metadata": {},
   "source": [
    "### Plotting the room rate time series."
   ]
  },
  {
   "cell_type": "code",
   "execution_count": 19,
   "metadata": {},
   "outputs": [
    {
     "data": {
      "application/vnd.plotly.v1+json": {
       "data": [
        {
         "name": "Capacity Remaining : 20 rooms",
         "type": "scatter",
         "uid": "b3834176-d98e-11e8-b4e9-8c859097598f",
         "x": [
          "Mon 2017-07-31",
          "Tue 2017-08-01",
          "Wed 2017-08-02",
          "Thu 2017-08-03",
          "Fri 2017-08-04",
          "Sat 2017-08-05",
          "Sun 2017-08-06"
         ],
         "y": [
          219.29,
          214.72,
          213.32,
          216.68,
          226.55,
          229.77,
          226.81
         ]
        },
        {
         "name": "Capacity Remaining : 40 rooms",
         "type": "scatter",
         "uid": "b3837a92-d98e-11e8-8556-8c859097598f",
         "x": [
          "Mon 2017-07-31",
          "Tue 2017-08-01",
          "Wed 2017-08-02",
          "Thu 2017-08-03",
          "Fri 2017-08-04",
          "Sat 2017-08-05",
          "Sun 2017-08-06"
         ],
         "y": [
          155.06,
          151.83,
          150.84,
          153.22,
          160.2,
          162.47,
          160.38
         ]
        },
        {
         "name": "Capacity Remaining : 60 rooms",
         "type": "scatter",
         "uid": "b3837bd2-d98e-11e8-bc2f-8c859097598f",
         "x": [
          "Mon 2017-07-31",
          "Tue 2017-08-01",
          "Wed 2017-08-02",
          "Thu 2017-08-03",
          "Fri 2017-08-04",
          "Sat 2017-08-05",
          "Sun 2017-08-06"
         ],
         "y": [
          126.61,
          123.97,
          123.16,
          125.1,
          130.8,
          132.66,
          130.95
         ]
        },
        {
         "name": "Capacity Remaining : 80 rooms",
         "type": "scatter",
         "uid": "b3837c9a-d98e-11e8-8960-8c859097598f",
         "x": [
          "Mon 2017-07-31",
          "Tue 2017-08-01",
          "Wed 2017-08-02",
          "Thu 2017-08-03",
          "Fri 2017-08-04",
          "Sat 2017-08-05",
          "Sun 2017-08-06"
         ],
         "y": [
          109.64,
          107.36,
          106.66,
          108.34,
          113.28,
          114.88,
          113.41
         ]
        }
       ],
       "layout": {
        "title": "Rate vs Reservation Date and Current Capacity Levels",
        "xaxis": {
         "title": "Day"
        },
        "yaxis": {
         "title": "Rate ($)"
        }
       }
      },
      "text/html": [
       "<div id=\"a3a9ce1b-114e-4b9c-be49-df243cc46b2c\" style=\"height: 525px; width: 100%;\" class=\"plotly-graph-div\"></div><script type=\"text/javascript\">require([\"plotly\"], function(Plotly) { window.PLOTLYENV=window.PLOTLYENV || {};window.PLOTLYENV.BASE_URL=\"https://plot.ly\";\n",
       "        Plotly.plot(\n",
       "            'a3a9ce1b-114e-4b9c-be49-df243cc46b2c',\n",
       "            [{\"name\": \"Capacity Remaining : 20 rooms\", \"x\": [\"Mon 2017-07-31\", \"Tue 2017-08-01\", \"Wed 2017-08-02\", \"Thu 2017-08-03\", \"Fri 2017-08-04\", \"Sat 2017-08-05\", \"Sun 2017-08-06\"], \"y\": [219.29, 214.72, 213.32, 216.68, 226.55, 229.77, 226.81], \"type\": \"scatter\", \"uid\": \"b3834176-d98e-11e8-b4e9-8c859097598f\"}, {\"name\": \"Capacity Remaining : 40 rooms\", \"x\": [\"Mon 2017-07-31\", \"Tue 2017-08-01\", \"Wed 2017-08-02\", \"Thu 2017-08-03\", \"Fri 2017-08-04\", \"Sat 2017-08-05\", \"Sun 2017-08-06\"], \"y\": [155.06, 151.83, 150.84, 153.22, 160.2, 162.47, 160.38], \"type\": \"scatter\", \"uid\": \"b3837a92-d98e-11e8-8556-8c859097598f\"}, {\"name\": \"Capacity Remaining : 60 rooms\", \"x\": [\"Mon 2017-07-31\", \"Tue 2017-08-01\", \"Wed 2017-08-02\", \"Thu 2017-08-03\", \"Fri 2017-08-04\", \"Sat 2017-08-05\", \"Sun 2017-08-06\"], \"y\": [126.61, 123.97, 123.16, 125.1, 130.8, 132.66, 130.95], \"type\": \"scatter\", \"uid\": \"b3837bd2-d98e-11e8-bc2f-8c859097598f\"}, {\"name\": \"Capacity Remaining : 80 rooms\", \"x\": [\"Mon 2017-07-31\", \"Tue 2017-08-01\", \"Wed 2017-08-02\", \"Thu 2017-08-03\", \"Fri 2017-08-04\", \"Sat 2017-08-05\", \"Sun 2017-08-06\"], \"y\": [109.64, 107.36, 106.66, 108.34, 113.28, 114.88, 113.41], \"type\": \"scatter\", \"uid\": \"b3837c9a-d98e-11e8-8960-8c859097598f\"}],\n",
       "            {\"title\": \"Rate vs Reservation Date and Current Capacity Levels\", \"xaxis\": {\"title\": \"Day\"}, \"yaxis\": {\"title\": \"Rate ($)\"}},\n",
       "            {\"showLink\": true, \"linkText\": \"Export to plot.ly\"}\n",
       "        ).then(function () {return Plotly.addFrames('a3a9ce1b-114e-4b9c-be49-df243cc46b2c',{});}).then(function(){Plotly.animate('a3a9ce1b-114e-4b9c-be49-df243cc46b2c');})\n",
       "        });</script>"
      ],
      "text/vnd.plotly.v1+html": [
       "<div id=\"a3a9ce1b-114e-4b9c-be49-df243cc46b2c\" style=\"height: 525px; width: 100%;\" class=\"plotly-graph-div\"></div><script type=\"text/javascript\">require([\"plotly\"], function(Plotly) { window.PLOTLYENV=window.PLOTLYENV || {};window.PLOTLYENV.BASE_URL=\"https://plot.ly\";\n",
       "        Plotly.plot(\n",
       "            'a3a9ce1b-114e-4b9c-be49-df243cc46b2c',\n",
       "            [{\"name\": \"Capacity Remaining : 20 rooms\", \"x\": [\"Mon 2017-07-31\", \"Tue 2017-08-01\", \"Wed 2017-08-02\", \"Thu 2017-08-03\", \"Fri 2017-08-04\", \"Sat 2017-08-05\", \"Sun 2017-08-06\"], \"y\": [219.29, 214.72, 213.32, 216.68, 226.55, 229.77, 226.81], \"type\": \"scatter\", \"uid\": \"b3834176-d98e-11e8-b4e9-8c859097598f\"}, {\"name\": \"Capacity Remaining : 40 rooms\", \"x\": [\"Mon 2017-07-31\", \"Tue 2017-08-01\", \"Wed 2017-08-02\", \"Thu 2017-08-03\", \"Fri 2017-08-04\", \"Sat 2017-08-05\", \"Sun 2017-08-06\"], \"y\": [155.06, 151.83, 150.84, 153.22, 160.2, 162.47, 160.38], \"type\": \"scatter\", \"uid\": \"b3837a92-d98e-11e8-8556-8c859097598f\"}, {\"name\": \"Capacity Remaining : 60 rooms\", \"x\": [\"Mon 2017-07-31\", \"Tue 2017-08-01\", \"Wed 2017-08-02\", \"Thu 2017-08-03\", \"Fri 2017-08-04\", \"Sat 2017-08-05\", \"Sun 2017-08-06\"], \"y\": [126.61, 123.97, 123.16, 125.1, 130.8, 132.66, 130.95], \"type\": \"scatter\", \"uid\": \"b3837bd2-d98e-11e8-bc2f-8c859097598f\"}, {\"name\": \"Capacity Remaining : 80 rooms\", \"x\": [\"Mon 2017-07-31\", \"Tue 2017-08-01\", \"Wed 2017-08-02\", \"Thu 2017-08-03\", \"Fri 2017-08-04\", \"Sat 2017-08-05\", \"Sun 2017-08-06\"], \"y\": [109.64, 107.36, 106.66, 108.34, 113.28, 114.88, 113.41], \"type\": \"scatter\", \"uid\": \"b3837c9a-d98e-11e8-8960-8c859097598f\"}],\n",
       "            {\"title\": \"Rate vs Reservation Date and Current Capacity Levels\", \"xaxis\": {\"title\": \"Day\"}, \"yaxis\": {\"title\": \"Rate ($)\"}},\n",
       "            {\"showLink\": true, \"linkText\": \"Export to plot.ly\"}\n",
       "        ).then(function () {return Plotly.addFrames('a3a9ce1b-114e-4b9c-be49-df243cc46b2c',{});}).then(function(){Plotly.animate('a3a9ce1b-114e-4b9c-be49-df243cc46b2c');})\n",
       "        });</script>"
      ]
     },
     "metadata": {},
     "output_type": "display_data"
    }
   ],
   "source": [
    "price_levels = [go.Scatter(x=rate_df_to_show.head(7).index,\n",
    "                           y=rate_df_to_show.head(7)['Capacity left : 20.0'],\n",
    "                           name='Capacity Remaining : 20 rooms'),\n",
    "                go.Scatter(x=rate_df_to_show.head(7).index,\n",
    "                           y=rate_df_to_show.head(7)['Capacity left : 40.0'],\n",
    "                           name='Capacity Remaining : 40 rooms'),\n",
    "                go.Scatter(x=rate_df_to_show.head(7).index,\n",
    "                           y=rate_df_to_show.head(7)['Capacity left : 60.0'],\n",
    "                           name='Capacity Remaining : 60 rooms'),\n",
    "                go.Scatter(x=rate_df_to_show.head(7).index,\n",
    "                           y=rate_df_to_show.head(7)['Capacity left : 80.0'],\n",
    "                           name='Capacity Remaining : 80 rooms')]\n",
    "\n",
    "layout_prices = go.Layout(title='Rate vs Reservation Date and Current Capacity Levels',\n",
    "                       xaxis={'title':'Day'}, yaxis={'title':'Rate ($)'})\n",
    "\n",
    "fig = go.Figure(data=price_levels, layout=layout_prices)\n",
    "iplot(fig, filename='price_levels_ts')"
   ]
  },
  {
   "cell_type": "code",
   "execution_count": 21,
   "metadata": {},
   "outputs": [],
   "source": [
    "rate_df.to_csv('rates.csv')"
   ]
  }
 ],
 "metadata": {
  "kernelspec": {
   "display_name": "Python 3",
   "language": "python",
   "name": "python3"
  },
  "language_info": {
   "codemirror_mode": {
    "name": "ipython",
    "version": 3
   },
   "file_extension": ".py",
   "mimetype": "text/x-python",
   "name": "python",
   "nbconvert_exporter": "python",
   "pygments_lexer": "ipython3",
   "version": "3.6.6"
  },
  "latex_envs": {
   "LaTeX_envs_menu_present": true,
   "autoclose": false,
   "autocomplete": true,
   "bibliofile": "biblio.bib",
   "cite_by": "apalike",
   "current_citInitial": 1,
   "eqLabelWithNumbers": true,
   "eqNumInitial": 1,
   "hotkeys": {
    "equation": "Ctrl-E",
    "itemize": "Ctrl-I"
   },
   "labels_anchors": false,
   "latex_user_defs": false,
   "report_style_numbering": false,
   "user_envs_cfg": false
  }
 },
 "nbformat": 4,
 "nbformat_minor": 2
}
